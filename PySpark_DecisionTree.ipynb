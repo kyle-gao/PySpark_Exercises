{
  "nbformat": 4,
  "nbformat_minor": 0,
  "metadata": {
    "colab": {
      "name": "PySpark_DecisionTree.ipynb",
      "provenance": [],
      "authorship_tag": "ABX9TyPqdgEzylEiU6s4VqVYNYgo",
      "include_colab_link": true
    },
    "kernelspec": {
      "name": "python3",
      "display_name": "Python 3"
    }
  },
  "cells": [
    {
      "cell_type": "markdown",
      "metadata": {
        "id": "view-in-github",
        "colab_type": "text"
      },
      "source": [
        "<a href=\"https://colab.research.google.com/github/kyle-gao/PySpark_Exercises/blob/master/PySpark_DecisionTree.ipynb\" target=\"_parent\"><img src=\"https://colab.research.google.com/assets/colab-badge.svg\" alt=\"Open In Colab\"/></a>"
      ]
    },
    {
      "cell_type": "code",
      "metadata": {
        "id": "RLdJV6kcm1eN",
        "colab_type": "code",
        "colab": {
          "base_uri": "https://localhost:8080/",
          "height": 274
        },
        "outputId": "7956a837-1706-4725-bfcf-276e65c13aba"
      },
      "source": [
        "!pip install pyspark"
      ],
      "execution_count": 2,
      "outputs": [
        {
          "output_type": "stream",
          "text": [
            "Collecting pyspark\n",
            "\u001b[?25l  Downloading https://files.pythonhosted.org/packages/f0/26/198fc8c0b98580f617cb03cb298c6056587b8f0447e20fa40c5b634ced77/pyspark-3.0.1.tar.gz (204.2MB)\n",
            "\u001b[K     |████████████████████████████████| 204.2MB 61kB/s \n",
            "\u001b[?25hCollecting py4j==0.10.9\n",
            "\u001b[?25l  Downloading https://files.pythonhosted.org/packages/9e/b6/6a4fb90cd235dc8e265a6a2067f2a2c99f0d91787f06aca4bcf7c23f3f80/py4j-0.10.9-py2.py3-none-any.whl (198kB)\n",
            "\u001b[K     |████████████████████████████████| 204kB 32.7MB/s \n",
            "\u001b[?25hBuilding wheels for collected packages: pyspark\n",
            "  Building wheel for pyspark (setup.py) ... \u001b[?25l\u001b[?25hdone\n",
            "  Created wheel for pyspark: filename=pyspark-3.0.1-py2.py3-none-any.whl size=204612243 sha256=ccfd2087e4489853ac62cff0b1467b443c5f9c6eac32f000deb78070a2f40747\n",
            "  Stored in directory: /root/.cache/pip/wheels/5e/bd/07/031766ca628adec8435bb40f0bd83bb676ce65ff4007f8e73f\n",
            "Successfully built pyspark\n",
            "Installing collected packages: py4j, pyspark\n",
            "Successfully installed py4j-0.10.9 pyspark-3.0.1\n"
          ],
          "name": "stdout"
        }
      ]
    },
    {
      "cell_type": "code",
      "metadata": {
        "id": "bLXui4DFo6bh",
        "colab_type": "code",
        "colab": {}
      },
      "source": [
        "try:\n",
        "    from pyspark import SparkContext, SparkConf\n",
        "    from pyspark.sql import SparkSession\n",
        "except ImportError as e:\n",
        "    printmd('<<<<<!!!!! Please restart your kernel after installing Apache Spark !!!!!>>>>>')"
      ],
      "execution_count": 3,
      "outputs": []
    },
    {
      "cell_type": "code",
      "metadata": {
        "id": "5Z8tEiD7pLS5",
        "colab_type": "code",
        "colab": {}
      },
      "source": [
        "sc = SparkContext.getOrCreate(SparkConf().setMaster(\"local[*]\"))"
      ],
      "execution_count": 4,
      "outputs": []
    },
    {
      "cell_type": "code",
      "metadata": {
        "id": "kiDF6ZfEpQ5J",
        "colab_type": "code",
        "colab": {}
      },
      "source": [
        "spark = SparkSession.builder.getOrCreate()"
      ],
      "execution_count": 5,
      "outputs": []
    },
    {
      "cell_type": "code",
      "metadata": {
        "id": "bm07eoSMpd0S",
        "colab_type": "code",
        "colab": {
          "base_uri": "https://localhost:8080/",
          "height": 401
        },
        "outputId": "632d86e9-1337-41a3-92da-6b49d40762c6"
      },
      "source": [
        "!wget https://github.com/IBM/coursera/raw/master/coursera_ml/a2.parquet"
      ],
      "execution_count": 6,
      "outputs": [
        {
          "output_type": "stream",
          "text": [
            "--2020-09-21 21:51:14--  https://github.com/IBM/coursera/raw/master/coursera_ml/a2.parquet\n",
            "Resolving github.com (github.com)... 140.82.114.3\n",
            "Connecting to github.com (github.com)|140.82.114.3|:443... connected.\n",
            "HTTP request sent, awaiting response... 301 Moved Permanently\n",
            "Location: https://github.com/IBM/skillsnetwork/raw/master/coursera_ml/a2.parquet [following]\n",
            "--2020-09-21 21:51:15--  https://github.com/IBM/skillsnetwork/raw/master/coursera_ml/a2.parquet\n",
            "Reusing existing connection to github.com:443.\n",
            "HTTP request sent, awaiting response... 302 Found\n",
            "Location: https://raw.githubusercontent.com/IBM/skillsnetwork/master/coursera_ml/a2.parquet [following]\n",
            "--2020-09-21 21:51:15--  https://raw.githubusercontent.com/IBM/skillsnetwork/master/coursera_ml/a2.parquet\n",
            "Resolving raw.githubusercontent.com (raw.githubusercontent.com)... 151.101.0.133, 151.101.64.133, 151.101.128.133, ...\n",
            "Connecting to raw.githubusercontent.com (raw.githubusercontent.com)|151.101.0.133|:443... connected.\n",
            "HTTP request sent, awaiting response... 200 OK\n",
            "Length: 59032 (58K) [application/octet-stream]\n",
            "Saving to: ‘a2.parquet’\n",
            "\n",
            "a2.parquet          100%[===================>]  57.65K  --.-KB/s    in 0.03s   \n",
            "\n",
            "2020-09-21 21:51:16 (2.12 MB/s) - ‘a2.parquet’ saved [59032/59032]\n",
            "\n"
          ],
          "name": "stdout"
        }
      ]
    },
    {
      "cell_type": "code",
      "metadata": {
        "id": "Y7dj87kUpkH6",
        "colab_type": "code",
        "colab": {}
      },
      "source": [
        "df = spark.read.load('a2.parquet') #spark dataframe similar to pandas"
      ],
      "execution_count": 7,
      "outputs": []
    },
    {
      "cell_type": "code",
      "metadata": {
        "id": "Od-GfQzYpsCO",
        "colab_type": "code",
        "colab": {
          "base_uri": "https://localhost:8080/",
          "height": 35
        },
        "outputId": "be2fe822-474e-40fc-86c4-c9a76197248e"
      },
      "source": [
        "df.head()"
      ],
      "execution_count": 10,
      "outputs": [
        {
          "output_type": "execute_result",
          "data": {
            "text/plain": [
              "Row(CLASS=0, SENSORID=26, X=380.66434005495194, Y=-139.3470983812975, Z=-247.93697521077704)"
            ]
          },
          "metadata": {
            "tags": []
          },
          "execution_count": 10
        }
      ]
    },
    {
      "cell_type": "code",
      "metadata": {
        "id": "VmK6oigLpt9y",
        "colab_type": "code",
        "colab": {}
      },
      "source": [
        "df.createOrReplaceTempView(\"Accelerometer_Data\") #allows for spark to call this Table using SQL"
      ],
      "execution_count": 14,
      "outputs": []
    },
    {
      "cell_type": "code",
      "metadata": {
        "id": "Xk-KHBKbp4a6",
        "colab_type": "code",
        "colab": {
          "base_uri": "https://localhost:8080/",
          "height": 490
        },
        "outputId": "33601278-2266-492b-f699-93e55b3ce5d3"
      },
      "source": [
        "spark.sql(\"SELECT * from Accelerometer_Data\").show() "
      ],
      "execution_count": 15,
      "outputs": [
        {
          "output_type": "stream",
          "text": [
            "+-----+-----------+-------------------+-------------------+-------------------+\n",
            "|CLASS|   SENSORID|                  X|                  Y|                  Z|\n",
            "+-----+-----------+-------------------+-------------------+-------------------+\n",
            "|    0|         26| 380.66434005495194| -139.3470983812975|-247.93697521077704|\n",
            "|    0|         29| 104.74324299209692| -32.27421440203938|-25.105013725863852|\n",
            "|    0| 8589934658| 118.11469236129976| 45.916682927433534| -87.97203782706572|\n",
            "|    0|34359738398| 246.55394030642543|-0.6122810693132044|-398.18662513951506|\n",
            "|    0|17179869241|-190.32584900181487|  234.7849657520335|-206.34483804019288|\n",
            "|    0|25769803830| 178.62396382387422| -47.07529438881511|  84.38310769821979|\n",
            "|    0|25769803831|  85.03128805189493|-4.3024316644854546|-1.1841857567516714|\n",
            "|    0|34359738411| 26.786262674736566| -46.33193951911338| 20.880756008396055|\n",
            "|    0| 8589934592|-16.203752396859194| 51.080957032176954| -96.80526656416971|\n",
            "|    0|25769803852|   47.2048142440404|  -78.2950899652916| 181.99604091494786|\n",
            "|    0|34359738369| 15.608872398939273| -79.90322809181754|  69.62150711098005|\n",
            "|    0|         19|-4.8281721129789315| -67.38050508399905| 221.24876396496404|\n",
            "|    0|         54| -98.40725712852762|-19.989364074314732|  -302.695196085276|\n",
            "|    0|17179869313| 22.835845394816594|   17.1633660118843| 32.877914832011385|\n",
            "|    0|34359738454|  84.20178070080324| -32.81572075916947| -48.63517643958031|\n",
            "|    0|          0|  56.54732521345129| -7.980106018032676|  95.05162719436447|\n",
            "|    0|17179869201|  -57.6008655247749|  5.135393798773895| 236.99158698947267|\n",
            "|    0|17179869308| -65.59264738389012| -48.92660057215126| -61.58970715383383|\n",
            "|    0|25769803790|  34.82337351291005|  9.483542084393937|  197.6066372962772|\n",
            "|    0|25769803825|  39.80573823439121|-0.7955236412785212| -79.66652640650325|\n",
            "+-----+-----------+-------------------+-------------------+-------------------+\n",
            "only showing top 20 rows\n",
            "\n"
          ],
          "name": "stdout"
        }
      ]
    },
    {
      "cell_type": "markdown",
      "metadata": {
        "id": "YT4caZcTrPjA",
        "colab_type": "text"
      },
      "source": [
        "Decision Trees are usually the first supervsed algorithm to try. \n",
        "\n",
        "They work well out of the box and are good benchmarks for future models."
      ]
    },
    {
      "cell_type": "code",
      "metadata": {
        "id": "G3xgWNGOul-d",
        "colab_type": "code",
        "colab": {
          "base_uri": "https://localhost:8080/",
          "height": 126
        },
        "outputId": "b5cd0c6b-8953-4c1b-8312-10e63cad0b8c"
      },
      "source": [
        "spark.sql(\"SELECT COUNT(DISTINCT CLASS) from Accelerometer_Data\").show()#binary classification"
      ],
      "execution_count": 25,
      "outputs": [
        {
          "output_type": "stream",
          "text": [
            "+---------------------+\n",
            "|count(DISTINCT CLASS)|\n",
            "+---------------------+\n",
            "|                    2|\n",
            "+---------------------+\n",
            "\n"
          ],
          "name": "stdout"
        }
      ]
    },
    {
      "cell_type": "code",
      "metadata": {
        "id": "sIqKTfAMrO14",
        "colab_type": "code",
        "colab": {}
      },
      "source": [
        "from pyspark.ml.classification import DecisionTreeClassifier\n",
        "from pyspark.ml.feature import VectorAssembler\n",
        "from pyspark.ml import Pipeline\n",
        "from pyspark.ml.evaluation import MulticlassClassificationEvaluator"
      ],
      "execution_count": 40,
      "outputs": []
    },
    {
      "cell_type": "code",
      "metadata": {
        "id": "jbbPHuSFsAmv",
        "colab_type": "code",
        "colab": {}
      },
      "source": [
        "(trainingData, testData) = df.randomSplit([0.7, 0.3])"
      ],
      "execution_count": 21,
      "outputs": []
    },
    {
      "cell_type": "code",
      "metadata": {
        "id": "xx6MQ3C2uiej",
        "colab_type": "code",
        "colab": {}
      },
      "source": [
        "tree = DecisionTreeClassifier(labelCol=\"CLASS\", featuresCol=\"features\")\n",
        "evaluator = MulticlassClassificationEvaluator(\n",
        "    labelCol=\"CLASS\", predictionCol=\"prediction\", metricName=\"accuracy\")"
      ],
      "execution_count": 43,
      "outputs": []
    },
    {
      "cell_type": "code",
      "metadata": {
        "id": "A7ItcJcYv4aW",
        "colab_type": "code",
        "colab": {}
      },
      "source": [
        "vecAssembler = VectorAssembler(inputCols=[\"X\", \"Y\", \"Z\"], outputCol=\"features\")\n",
        "pipeline = Pipeline(stages=[vectorAssembler, tree])"
      ],
      "execution_count": 38,
      "outputs": []
    },
    {
      "cell_type": "code",
      "metadata": {
        "id": "VAIivRaav925",
        "colab_type": "code",
        "colab": {}
      },
      "source": [
        "model = pipeline.fit(trainingData)"
      ],
      "execution_count": 68,
      "outputs": []
    },
    {
      "cell_type": "code",
      "metadata": {
        "id": "g-TNSw7RwJ44",
        "colab_type": "code",
        "colab": {}
      },
      "source": [
        "evaluator = MulticlassClassificationEvaluator(\n",
        "    labelCol=\"CLASS\", predictionCol=\"prediction\", metricName=\"accuracy\")\n",
        "predictions = model.transform(testData)"
      ],
      "execution_count": 69,
      "outputs": []
    },
    {
      "cell_type": "code",
      "metadata": {
        "id": "377GpMJuxe5r",
        "colab_type": "code",
        "colab": {
          "base_uri": "https://localhost:8080/",
          "height": 308
        },
        "outputId": "4cf540fc-3857-4a35-a5fa-8f366b997854"
      },
      "source": [
        "predictions.select(\"X\",\"Y\",\"Z\",\"prediction\").show(10)"
      ],
      "execution_count": 70,
      "outputs": [
        {
          "output_type": "stream",
          "text": [
            "+-------------------+------------------+-------------------+----------+\n",
            "|                  X|                 Y|                  Z|prediction|\n",
            "+-------------------+------------------+-------------------+----------+\n",
            "| 122.79284074820067|-88.19527091272191|-185.40334606851977|       0.0|\n",
            "| 137.48274121419482| -93.9756133320119| -220.9712437858673|       0.0|\n",
            "| -33.87457888688617|13.353554565156802| -443.7397084372543|       0.0|\n",
            "|  144.8763646036816|-43.63767640465293|  36.56313967722145|       0.0|\n",
            "|-56.735799011890066| 81.98728822873187| -17.89864645185649|       0.0|\n",
            "|-4.8281721129789315|-67.38050508399905| 221.24876396496404|       0.0|\n",
            "| 25.023569867449666|-53.21428926366043| -6.843856965266909|       0.0|\n",
            "|-137.06896619507458|149.26988943191122|  -75.2732620551891|       0.0|\n",
            "| -75.90246445601944|115.50570790739657| 111.11911236055724|       0.0|\n",
            "| -56.73574214427017| 81.98727523527324| -17.89860240383493|       0.0|\n",
            "+-------------------+------------------+-------------------+----------+\n",
            "only showing top 10 rows\n",
            "\n"
          ],
          "name": "stdout"
        }
      ]
    },
    {
      "cell_type": "code",
      "metadata": {
        "id": "YrnAvoToxjaa",
        "colab_type": "code",
        "colab": {
          "base_uri": "https://localhost:8080/",
          "height": 35
        },
        "outputId": "206a3e36-51fd-4714-a667-d054b636d25b"
      },
      "source": [
        "accuracy = evaluator.evaluate(predictions)\n",
        "print(\"Accuracy = %g \" % (accuracy)) #Wow the data must be really separable. "
      ],
      "execution_count": 71,
      "outputs": [
        {
          "output_type": "stream",
          "text": [
            "Accuracy = 0.998927 \n"
          ],
          "name": "stdout"
        }
      ]
    }
  ]
}